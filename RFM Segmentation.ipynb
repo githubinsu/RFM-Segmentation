{
 "cells": [
  {
   "cell_type": "code",
   "execution_count": 1,
   "id": "a3c95417",
   "metadata": {},
   "outputs": [],
   "source": [
    "import pandas as pd"
   ]
  },
  {
   "cell_type": "code",
   "execution_count": 98,
   "id": "a47ce13e",
   "metadata": {},
   "outputs": [],
   "source": [
    "df = pd.read_excel('train_data_RFM.xlsx')"
   ]
  },
  {
   "cell_type": "code",
   "execution_count": 171,
   "id": "6c98cdb5",
   "metadata": {},
   "outputs": [],
   "source": [
    "df1 = df.tail(500000)"
   ]
  },
  {
   "cell_type": "markdown",
   "id": "8ce45892",
   "metadata": {},
   "source": [
    "# Recency 전처리"
   ]
  },
  {
   "cell_type": "code",
   "execution_count": 172,
   "id": "22805063",
   "metadata": {},
   "outputs": [],
   "source": [
    "from datetime import datetime, timedelta"
   ]
  },
  {
   "cell_type": "code",
   "execution_count": 173,
   "id": "8ee7c929",
   "metadata": {},
   "outputs": [],
   "source": [
    "df1_Recency = df1.pivot_table(index = 'Customer_ID', values = 'Order_Date', aggfunc = 'max')"
   ]
  },
  {
   "cell_type": "code",
   "execution_count": 174,
   "id": "240c676c",
   "metadata": {
    "scrolled": true
   },
   "outputs": [
    {
     "data": {
      "text/html": [
       "<div>\n",
       "<style scoped>\n",
       "    .dataframe tbody tr th:only-of-type {\n",
       "        vertical-align: middle;\n",
       "    }\n",
       "\n",
       "    .dataframe tbody tr th {\n",
       "        vertical-align: top;\n",
       "    }\n",
       "\n",
       "    .dataframe thead th {\n",
       "        text-align: right;\n",
       "    }\n",
       "</style>\n",
       "<table border=\"1\" class=\"dataframe\">\n",
       "  <thead>\n",
       "    <tr style=\"text-align: right;\">\n",
       "      <th></th>\n",
       "      <th>Order_Date</th>\n",
       "    </tr>\n",
       "    <tr>\n",
       "      <th>Customer_ID</th>\n",
       "      <th></th>\n",
       "    </tr>\n",
       "  </thead>\n",
       "  <tbody>\n",
       "    <tr>\n",
       "      <th>100004</th>\n",
       "      <td>100</td>\n",
       "    </tr>\n",
       "    <tr>\n",
       "      <th>100006</th>\n",
       "      <td>170</td>\n",
       "    </tr>\n",
       "    <tr>\n",
       "      <th>100008</th>\n",
       "      <td>165</td>\n",
       "    </tr>\n",
       "    <tr>\n",
       "      <th>100010</th>\n",
       "      <td>16</td>\n",
       "    </tr>\n",
       "    <tr>\n",
       "      <th>100013</th>\n",
       "      <td>114</td>\n",
       "    </tr>\n",
       "    <tr>\n",
       "      <th>...</th>\n",
       "      <td>...</td>\n",
       "    </tr>\n",
       "    <tr>\n",
       "      <th>999979</th>\n",
       "      <td>140</td>\n",
       "    </tr>\n",
       "    <tr>\n",
       "      <th>999989</th>\n",
       "      <td>44</td>\n",
       "    </tr>\n",
       "    <tr>\n",
       "      <th>999993</th>\n",
       "      <td>15</td>\n",
       "    </tr>\n",
       "    <tr>\n",
       "      <th>999994</th>\n",
       "      <td>159</td>\n",
       "    </tr>\n",
       "    <tr>\n",
       "      <th>999999</th>\n",
       "      <td>6</td>\n",
       "    </tr>\n",
       "  </tbody>\n",
       "</table>\n",
       "<p>114830 rows × 1 columns</p>\n",
       "</div>"
      ],
      "text/plain": [
       "             Order_Date\n",
       "Customer_ID            \n",
       "100004              100\n",
       "100006              170\n",
       "100008              165\n",
       "100010               16\n",
       "100013              114\n",
       "...                 ...\n",
       "999979              140\n",
       "999989               44\n",
       "999993               15\n",
       "999994              159\n",
       "999999                6\n",
       "\n",
       "[114830 rows x 1 columns]"
      ]
     },
     "execution_count": 174,
     "metadata": {},
     "output_type": "execute_result"
    }
   ],
   "source": [
    "Recency = pd.DataFrame(df1_Recency['Order_Date'].apply(lambda x : pd.to_datetime('2020-10-01') - x).dt.days)\n",
    "Recency"
   ]
  },
  {
   "cell_type": "code",
   "execution_count": 175,
   "id": "17756397",
   "metadata": {},
   "outputs": [],
   "source": [
    "Recency.rename(columns = {'Order_Date': 'Recency'}, inplace = True)"
   ]
  },
  {
   "cell_type": "markdown",
   "id": "0f932382",
   "metadata": {},
   "source": [
    "# Frequency 전처리"
   ]
  },
  {
   "cell_type": "code",
   "execution_count": 176,
   "id": "8ecb1c87",
   "metadata": {},
   "outputs": [],
   "source": [
    "df1_Frequency = df1.pivot_table(index = ['Customer_ID', 'Order_Date'], values = 'Price', aggfunc = 'count')"
   ]
  },
  {
   "cell_type": "code",
   "execution_count": 177,
   "id": "a48e3df0",
   "metadata": {},
   "outputs": [],
   "source": [
    "df1_Frequency.rename(columns = {'Price' : 'Frequency'}, inplace = True)"
   ]
  },
  {
   "cell_type": "code",
   "execution_count": 178,
   "id": "6e754a25",
   "metadata": {},
   "outputs": [
    {
     "data": {
      "text/html": [
       "<div>\n",
       "<style scoped>\n",
       "    .dataframe tbody tr th:only-of-type {\n",
       "        vertical-align: middle;\n",
       "    }\n",
       "\n",
       "    .dataframe tbody tr th {\n",
       "        vertical-align: top;\n",
       "    }\n",
       "\n",
       "    .dataframe thead th {\n",
       "        text-align: right;\n",
       "    }\n",
       "</style>\n",
       "<table border=\"1\" class=\"dataframe\">\n",
       "  <thead>\n",
       "    <tr style=\"text-align: right;\">\n",
       "      <th></th>\n",
       "      <th>Frequency</th>\n",
       "    </tr>\n",
       "    <tr>\n",
       "      <th>Customer_ID</th>\n",
       "      <th></th>\n",
       "    </tr>\n",
       "  </thead>\n",
       "  <tbody>\n",
       "    <tr>\n",
       "      <th>100004</th>\n",
       "      <td>1</td>\n",
       "    </tr>\n",
       "    <tr>\n",
       "      <th>100006</th>\n",
       "      <td>1</td>\n",
       "    </tr>\n",
       "    <tr>\n",
       "      <th>100008</th>\n",
       "      <td>2</td>\n",
       "    </tr>\n",
       "    <tr>\n",
       "      <th>100010</th>\n",
       "      <td>3</td>\n",
       "    </tr>\n",
       "    <tr>\n",
       "      <th>100010</th>\n",
       "      <td>1</td>\n",
       "    </tr>\n",
       "    <tr>\n",
       "      <th>...</th>\n",
       "      <td>...</td>\n",
       "    </tr>\n",
       "    <tr>\n",
       "      <th>999993</th>\n",
       "      <td>2</td>\n",
       "    </tr>\n",
       "    <tr>\n",
       "      <th>999993</th>\n",
       "      <td>4</td>\n",
       "    </tr>\n",
       "    <tr>\n",
       "      <th>999993</th>\n",
       "      <td>1</td>\n",
       "    </tr>\n",
       "    <tr>\n",
       "      <th>999994</th>\n",
       "      <td>1</td>\n",
       "    </tr>\n",
       "    <tr>\n",
       "      <th>999999</th>\n",
       "      <td>5</td>\n",
       "    </tr>\n",
       "  </tbody>\n",
       "</table>\n",
       "<p>299714 rows × 1 columns</p>\n",
       "</div>"
      ],
      "text/plain": [
       "             Frequency\n",
       "Customer_ID           \n",
       "100004               1\n",
       "100006               1\n",
       "100008               2\n",
       "100010               3\n",
       "100010               1\n",
       "...                ...\n",
       "999993               2\n",
       "999993               4\n",
       "999993               1\n",
       "999994               1\n",
       "999999               5\n",
       "\n",
       "[299714 rows x 1 columns]"
      ]
     },
     "execution_count": 178,
     "metadata": {},
     "output_type": "execute_result"
    }
   ],
   "source": [
    "Frequency = df1_Frequency.reset_index(level ='Order_Date', drop = True)\n",
    "Frequency"
   ]
  },
  {
   "cell_type": "markdown",
   "id": "707c9166",
   "metadata": {},
   "source": [
    "# Monetary 전처리"
   ]
  },
  {
   "cell_type": "code",
   "execution_count": 179,
   "id": "31f740a8",
   "metadata": {
    "scrolled": true
   },
   "outputs": [],
   "source": [
    "Monetary = df1.pivot_table(index = 'Customer_ID', values = 'Price', aggfunc = 'sum')\n"
   ]
  },
  {
   "cell_type": "code",
   "execution_count": 180,
   "id": "cbeb9dd3",
   "metadata": {},
   "outputs": [],
   "source": [
    "Monetary.rename(columns = {'Price':'Monetary'}, inplace = True)"
   ]
  },
  {
   "cell_type": "markdown",
   "id": "2b46da17",
   "metadata": {},
   "source": [
    "# RFM Score 계산"
   ]
  },
  {
   "cell_type": "code",
   "execution_count": 181,
   "id": "60d9dfe2",
   "metadata": {
    "scrolled": false
   },
   "outputs": [
    {
     "data": {
      "text/html": [
       "<div>\n",
       "<style scoped>\n",
       "    .dataframe tbody tr th:only-of-type {\n",
       "        vertical-align: middle;\n",
       "    }\n",
       "\n",
       "    .dataframe tbody tr th {\n",
       "        vertical-align: top;\n",
       "    }\n",
       "\n",
       "    .dataframe thead th {\n",
       "        text-align: right;\n",
       "    }\n",
       "</style>\n",
       "<table border=\"1\" class=\"dataframe\">\n",
       "  <thead>\n",
       "    <tr style=\"text-align: right;\">\n",
       "      <th></th>\n",
       "      <th>Recency</th>\n",
       "      <th>Frequency</th>\n",
       "      <th>Monetary</th>\n",
       "    </tr>\n",
       "    <tr>\n",
       "      <th>Customer_ID</th>\n",
       "      <th></th>\n",
       "      <th></th>\n",
       "      <th></th>\n",
       "    </tr>\n",
       "  </thead>\n",
       "  <tbody>\n",
       "    <tr>\n",
       "      <th>100004</th>\n",
       "      <td>100</td>\n",
       "      <td>1</td>\n",
       "      <td>8475</td>\n",
       "    </tr>\n",
       "    <tr>\n",
       "      <th>100006</th>\n",
       "      <td>170</td>\n",
       "      <td>1</td>\n",
       "      <td>36850</td>\n",
       "    </tr>\n",
       "    <tr>\n",
       "      <th>100008</th>\n",
       "      <td>165</td>\n",
       "      <td>2</td>\n",
       "      <td>63675</td>\n",
       "    </tr>\n",
       "    <tr>\n",
       "      <th>100010</th>\n",
       "      <td>16</td>\n",
       "      <td>3</td>\n",
       "      <td>344550</td>\n",
       "    </tr>\n",
       "    <tr>\n",
       "      <th>100010</th>\n",
       "      <td>16</td>\n",
       "      <td>1</td>\n",
       "      <td>344550</td>\n",
       "    </tr>\n",
       "    <tr>\n",
       "      <th>...</th>\n",
       "      <td>...</td>\n",
       "      <td>...</td>\n",
       "      <td>...</td>\n",
       "    </tr>\n",
       "    <tr>\n",
       "      <th>999993</th>\n",
       "      <td>15</td>\n",
       "      <td>2</td>\n",
       "      <td>736197</td>\n",
       "    </tr>\n",
       "    <tr>\n",
       "      <th>999993</th>\n",
       "      <td>15</td>\n",
       "      <td>4</td>\n",
       "      <td>736197</td>\n",
       "    </tr>\n",
       "    <tr>\n",
       "      <th>999993</th>\n",
       "      <td>15</td>\n",
       "      <td>1</td>\n",
       "      <td>736197</td>\n",
       "    </tr>\n",
       "    <tr>\n",
       "      <th>999994</th>\n",
       "      <td>159</td>\n",
       "      <td>1</td>\n",
       "      <td>9235</td>\n",
       "    </tr>\n",
       "    <tr>\n",
       "      <th>999999</th>\n",
       "      <td>6</td>\n",
       "      <td>5</td>\n",
       "      <td>36250</td>\n",
       "    </tr>\n",
       "  </tbody>\n",
       "</table>\n",
       "<p>299714 rows × 3 columns</p>\n",
       "</div>"
      ],
      "text/plain": [
       "             Recency  Frequency  Monetary\n",
       "Customer_ID                              \n",
       "100004           100          1      8475\n",
       "100006           170          1     36850\n",
       "100008           165          2     63675\n",
       "100010            16          3    344550\n",
       "100010            16          1    344550\n",
       "...              ...        ...       ...\n",
       "999993            15          2    736197\n",
       "999993            15          4    736197\n",
       "999993            15          1    736197\n",
       "999994           159          1      9235\n",
       "999999             6          5     36250\n",
       "\n",
       "[299714 rows x 3 columns]"
      ]
     },
     "execution_count": 181,
     "metadata": {},
     "output_type": "execute_result"
    }
   ],
   "source": [
    "# R,F,M 병합\n",
    "df_merged = pd.concat([ Recency, Frequency,Monetary], axis = 1 )\n",
    "df_merged"
   ]
  },
  {
   "cell_type": "code",
   "execution_count": 182,
   "id": "2b916850",
   "metadata": {},
   "outputs": [],
   "source": [
    "#R_Score 계산\n",
    "df_merged['R_Score'] = pd.qcut(df_merged['Recency'], 5, labels=[5,4,3,2,1]) "
   ]
  },
  {
   "cell_type": "code",
   "execution_count": 183,
   "id": "5a4af189",
   "metadata": {
    "scrolled": true
   },
   "outputs": [
    {
     "data": {
      "text/plain": [
       "1     195591\n",
       "2      65013\n",
       "3      17014\n",
       "4      11701\n",
       "6       3725\n",
       "5       2740\n",
       "8       1222\n",
       "7        769\n",
       "9        445\n",
       "10       416\n",
       "12       376\n",
       "11       128\n",
       "15       101\n",
       "16        97\n",
       "14        79\n",
       "18        59\n",
       "20        40\n",
       "13        32\n",
       "24        28\n",
       "21        26\n",
       "Name: Frequency, dtype: int64"
      ]
     },
     "execution_count": 183,
     "metadata": {},
     "output_type": "execute_result"
    }
   ],
   "source": [
    "#F_Score 계산\n",
    "df_merged['Frequency'].value_counts().head(20)"
   ]
  },
  {
   "cell_type": "code",
   "execution_count": 184,
   "id": "a14313d8",
   "metadata": {},
   "outputs": [],
   "source": [
    "# Frequency value의 1,2,3 빈도가 높아 qcut 활용 불가 -> 1은 1점, 2는 2점, 3은 3점, 4는 4점, 5회 이상은 5점 부여\n",
    "def f_score(x):\n",
    "    if x >= 5 :\n",
    "        return 5\n",
    "    else :\n",
    "        return x"
   ]
  },
  {
   "cell_type": "code",
   "execution_count": 185,
   "id": "81b55a2e",
   "metadata": {},
   "outputs": [],
   "source": [
    "df_merged['F_Score'] = df_merged['Frequency'].apply(f_score)"
   ]
  },
  {
   "cell_type": "code",
   "execution_count": 186,
   "id": "47a1929e",
   "metadata": {
    "scrolled": false
   },
   "outputs": [],
   "source": [
    "# M_Score 계산\n",
    "df_merged['M_Score'] = pd.qcut(df_merged['Monetary'], 5, labels=[1,2,3,4,5]) "
   ]
  },
  {
   "cell_type": "code",
   "execution_count": 187,
   "id": "b8a24244",
   "metadata": {},
   "outputs": [],
   "source": [
    "# Sum Score 계산\n",
    "df_merged['Sum_Score'] = df_merged['R_Score'].astype(int) + df_merged['F_Score'].astype(int) + df_merged['M_Score'].astype(int)"
   ]
  },
  {
   "cell_type": "code",
   "execution_count": 188,
   "id": "b742aba9",
   "metadata": {},
   "outputs": [
    {
     "data": {
      "text/html": [
       "<div>\n",
       "<style scoped>\n",
       "    .dataframe tbody tr th:only-of-type {\n",
       "        vertical-align: middle;\n",
       "    }\n",
       "\n",
       "    .dataframe tbody tr th {\n",
       "        vertical-align: top;\n",
       "    }\n",
       "\n",
       "    .dataframe thead th {\n",
       "        text-align: right;\n",
       "    }\n",
       "</style>\n",
       "<table border=\"1\" class=\"dataframe\">\n",
       "  <thead>\n",
       "    <tr style=\"text-align: right;\">\n",
       "      <th></th>\n",
       "      <th>Recency</th>\n",
       "      <th>Frequency</th>\n",
       "      <th>Monetary</th>\n",
       "      <th>R_Score</th>\n",
       "      <th>F_Score</th>\n",
       "      <th>M_Score</th>\n",
       "      <th>Sum_Score</th>\n",
       "    </tr>\n",
       "    <tr>\n",
       "      <th>Customer_ID</th>\n",
       "      <th></th>\n",
       "      <th></th>\n",
       "      <th></th>\n",
       "      <th></th>\n",
       "      <th></th>\n",
       "      <th></th>\n",
       "      <th></th>\n",
       "    </tr>\n",
       "  </thead>\n",
       "  <tbody>\n",
       "    <tr>\n",
       "      <th>100004</th>\n",
       "      <td>100</td>\n",
       "      <td>1</td>\n",
       "      <td>8475</td>\n",
       "      <td>1</td>\n",
       "      <td>1</td>\n",
       "      <td>1</td>\n",
       "      <td>3</td>\n",
       "    </tr>\n",
       "    <tr>\n",
       "      <th>100006</th>\n",
       "      <td>170</td>\n",
       "      <td>1</td>\n",
       "      <td>36850</td>\n",
       "      <td>1</td>\n",
       "      <td>1</td>\n",
       "      <td>1</td>\n",
       "      <td>3</td>\n",
       "    </tr>\n",
       "    <tr>\n",
       "      <th>100008</th>\n",
       "      <td>165</td>\n",
       "      <td>2</td>\n",
       "      <td>63675</td>\n",
       "      <td>1</td>\n",
       "      <td>2</td>\n",
       "      <td>2</td>\n",
       "      <td>5</td>\n",
       "    </tr>\n",
       "    <tr>\n",
       "      <th>100010</th>\n",
       "      <td>16</td>\n",
       "      <td>3</td>\n",
       "      <td>344550</td>\n",
       "      <td>4</td>\n",
       "      <td>3</td>\n",
       "      <td>4</td>\n",
       "      <td>11</td>\n",
       "    </tr>\n",
       "    <tr>\n",
       "      <th>100010</th>\n",
       "      <td>16</td>\n",
       "      <td>1</td>\n",
       "      <td>344550</td>\n",
       "      <td>4</td>\n",
       "      <td>1</td>\n",
       "      <td>4</td>\n",
       "      <td>9</td>\n",
       "    </tr>\n",
       "    <tr>\n",
       "      <th>...</th>\n",
       "      <td>...</td>\n",
       "      <td>...</td>\n",
       "      <td>...</td>\n",
       "      <td>...</td>\n",
       "      <td>...</td>\n",
       "      <td>...</td>\n",
       "      <td>...</td>\n",
       "    </tr>\n",
       "    <tr>\n",
       "      <th>999993</th>\n",
       "      <td>15</td>\n",
       "      <td>2</td>\n",
       "      <td>736197</td>\n",
       "      <td>4</td>\n",
       "      <td>2</td>\n",
       "      <td>5</td>\n",
       "      <td>11</td>\n",
       "    </tr>\n",
       "    <tr>\n",
       "      <th>999993</th>\n",
       "      <td>15</td>\n",
       "      <td>4</td>\n",
       "      <td>736197</td>\n",
       "      <td>4</td>\n",
       "      <td>4</td>\n",
       "      <td>5</td>\n",
       "      <td>13</td>\n",
       "    </tr>\n",
       "    <tr>\n",
       "      <th>999993</th>\n",
       "      <td>15</td>\n",
       "      <td>1</td>\n",
       "      <td>736197</td>\n",
       "      <td>4</td>\n",
       "      <td>1</td>\n",
       "      <td>5</td>\n",
       "      <td>10</td>\n",
       "    </tr>\n",
       "    <tr>\n",
       "      <th>999994</th>\n",
       "      <td>159</td>\n",
       "      <td>1</td>\n",
       "      <td>9235</td>\n",
       "      <td>1</td>\n",
       "      <td>1</td>\n",
       "      <td>1</td>\n",
       "      <td>3</td>\n",
       "    </tr>\n",
       "    <tr>\n",
       "      <th>999999</th>\n",
       "      <td>6</td>\n",
       "      <td>5</td>\n",
       "      <td>36250</td>\n",
       "      <td>5</td>\n",
       "      <td>5</td>\n",
       "      <td>1</td>\n",
       "      <td>11</td>\n",
       "    </tr>\n",
       "  </tbody>\n",
       "</table>\n",
       "<p>299714 rows × 7 columns</p>\n",
       "</div>"
      ],
      "text/plain": [
       "             Recency  Frequency  Monetary R_Score  F_Score M_Score  Sum_Score\n",
       "Customer_ID                                                                  \n",
       "100004           100          1      8475       1        1       1          3\n",
       "100006           170          1     36850       1        1       1          3\n",
       "100008           165          2     63675       1        2       2          5\n",
       "100010            16          3    344550       4        3       4         11\n",
       "100010            16          1    344550       4        1       4          9\n",
       "...              ...        ...       ...     ...      ...     ...        ...\n",
       "999993            15          2    736197       4        2       5         11\n",
       "999993            15          4    736197       4        4       5         13\n",
       "999993            15          1    736197       4        1       5         10\n",
       "999994           159          1      9235       1        1       1          3\n",
       "999999             6          5     36250       5        5       1         11\n",
       "\n",
       "[299714 rows x 7 columns]"
      ]
     },
     "execution_count": 188,
     "metadata": {},
     "output_type": "execute_result"
    }
   ],
   "source": [
    "df_merged"
   ]
  },
  {
   "cell_type": "code",
   "execution_count": 189,
   "id": "735e6f0c",
   "metadata": {},
   "outputs": [],
   "source": [
    "# 2차원 그래프 생성 위한 F-M 병합\n",
    "df_merged['M_Score'] = df_merged['M_Score'].astype(int)\n",
    "df_merged['FM_Avg'] = round((df_merged['F_Score'] + df_merged['M_Score'])/2)\n",
    "df_merged['FM_Avg'] = df_merged['FM_Avg'].astype(int)"
   ]
  },
  {
   "cell_type": "code",
   "execution_count": 190,
   "id": "81ea9a3a",
   "metadata": {},
   "outputs": [
    {
     "data": {
      "image/png": "[encoded data removed]",
      "text/plain": [
       "<Figure size 640x480 with 2 Axes>"
      ]
     },
     "metadata": {},
     "output_type": "display_data"
    }
   ],
   "source": [
    "# Confusion Matrix 생성\n",
    "import seaborn as sns\n",
    "import matplotlib.pyplot as plt\n",
    "\n",
    "confusion_matrix = pd.crosstab(df_merged['FM_Avg'], df_merged['R_Score'])\n",
    "confusion_matrix = confusion_matrix.iloc[::-1, ::-1]\n",
    "\n",
    "sns.heatmap(confusion_matrix, annot=True, cmap='Blues', fmt = 'd')\n",
    "plt.xlabel('R_Score')\n",
    "plt.ylabel('FM_Avg')\n",
    "plt.show()\n"
   ]
  }
 ],
 "metadata": {
  "kernelspec": {
   "display_name": "Python 3 (ipykernel)",
   "language": "python",
   "name": "python3"
  },
  "language_info": {
   "codemirror_mode": {
    "name": "ipython",
    "version": 3
   },
   "file_extension": ".py",
   "mimetype": "text/x-python",
   "name": "python",
   "nbconvert_exporter": "python",
   "pygments_lexer": "ipython3",
   "version": "3.10.9"
  }
 },
 "nbformat": 4,
 "nbformat_minor": 5
}
