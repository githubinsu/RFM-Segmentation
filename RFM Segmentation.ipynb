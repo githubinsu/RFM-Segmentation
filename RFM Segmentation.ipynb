{
 "cells": [
  {
   "cell_type": "code",
   "execution_count": 1,
   "id": "a3c95417",
   "metadata": {},
   "outputs": [],
   "source": [
    "import pandas as pd"
   ]
  },
  {
   "cell_type": "code",
   "execution_count": 98,
   "id": "a47ce13e",
   "metadata": {},
   "outputs": [],
   "source": [
    "df = pd.read_excel('train_data_RFM.xlsx')"
   ]
  },
  {
   "cell_type": "code",
   "execution_count": 101,
   "id": "5372fda8",
   "metadata": {},
   "outputs": [],
   "source": [
    "# 이상치 제거\n",
    "df_pivot = df.pivot_table(index = 'Customer_ID', values = 'Order_Date', aggfunc = 'count')"
   ]
  },
  {
   "cell_type": "code",
   "execution_count": 102,
   "id": "cafc536e",
   "metadata": {},
   "outputs": [],
   "source": [
    "df_pivot_index = df_pivot[df_pivot['Order_Date'] < 10].index"
   ]
  },
  {
   "cell_type": "code",
   "execution_count": 103,
   "id": "110b7830",
   "metadata": {},
   "outputs": [],
   "source": [
    "df1 = df[df['Customer_ID'].isin(df_pivot_index)]"
   ]
  },
  {
   "cell_type": "markdown",
   "id": "1d2768ee",
   "metadata": {},
   "source": [
    "# Recency 전처리"
   ]
  },
  {
   "cell_type": "code",
   "execution_count": 104,
   "id": "416e2673",
   "metadata": {},
   "outputs": [],
   "source": [
    "from datetime import datetime, timedelta"
   ]
  },
  {
   "cell_type": "code",
   "execution_count": 105,
   "id": "d2cf00b1",
   "metadata": {},
   "outputs": [],
   "source": [
    "df1_Recency = df1.pivot_table(index = 'Customer_ID', values = 'Order_Date', aggfunc = 'max')"
   ]
  },
  {
   "cell_type": "code",
   "execution_count": 106,
   "id": "fff26671",
   "metadata": {
    "scrolled": true
   },
   "outputs": [
    {
     "data": {
      "text/html": [
       "<div>\n",
       "<style scoped>\n",
       "    .dataframe tbody tr th:only-of-type {\n",
       "        vertical-align: middle;\n",
       "    }\n",
       "\n",
       "    .dataframe tbody tr th {\n",
       "        vertical-align: top;\n",
       "    }\n",
       "\n",
       "    .dataframe thead th {\n",
       "        text-align: right;\n",
       "    }\n",
       "</style>\n",
       "<table border=\"1\" class=\"dataframe\">\n",
       "  <thead>\n",
       "    <tr style=\"text-align: right;\">\n",
       "      <th></th>\n",
       "      <th>Order_Date</th>\n",
       "    </tr>\n",
       "    <tr>\n",
       "      <th>Customer_ID</th>\n",
       "      <th></th>\n",
       "    </tr>\n",
       "  </thead>\n",
       "  <tbody>\n",
       "    <tr>\n",
       "      <th>100004</th>\n",
       "      <td>100</td>\n",
       "    </tr>\n",
       "    <tr>\n",
       "      <th>100006</th>\n",
       "      <td>170</td>\n",
       "    </tr>\n",
       "    <tr>\n",
       "      <th>100008</th>\n",
       "      <td>165</td>\n",
       "    </tr>\n",
       "    <tr>\n",
       "      <th>100013</th>\n",
       "      <td>114</td>\n",
       "    </tr>\n",
       "    <tr>\n",
       "      <th>100015</th>\n",
       "      <td>1</td>\n",
       "    </tr>\n",
       "    <tr>\n",
       "      <th>...</th>\n",
       "      <td>...</td>\n",
       "    </tr>\n",
       "    <tr>\n",
       "      <th>999979</th>\n",
       "      <td>140</td>\n",
       "    </tr>\n",
       "    <tr>\n",
       "      <th>999981</th>\n",
       "      <td>282</td>\n",
       "    </tr>\n",
       "    <tr>\n",
       "      <th>999989</th>\n",
       "      <td>44</td>\n",
       "    </tr>\n",
       "    <tr>\n",
       "      <th>999994</th>\n",
       "      <td>159</td>\n",
       "    </tr>\n",
       "    <tr>\n",
       "      <th>999999</th>\n",
       "      <td>6</td>\n",
       "    </tr>\n",
       "  </tbody>\n",
       "</table>\n",
       "<p>141884 rows × 1 columns</p>\n",
       "</div>"
      ],
      "text/plain": [
       "             Order_Date\n",
       "Customer_ID            \n",
       "100004              100\n",
       "100006              170\n",
       "100008              165\n",
       "100013              114\n",
       "100015                1\n",
       "...                 ...\n",
       "999979              140\n",
       "999981              282\n",
       "999989               44\n",
       "999994              159\n",
       "999999                6\n",
       "\n",
       "[141884 rows x 1 columns]"
      ]
     },
     "execution_count": 106,
     "metadata": {},
     "output_type": "execute_result"
    }
   ],
   "source": [
    "Recency = pd.DataFrame(df1_Recency['Order_Date'].apply(lambda x : pd.to_datetime('2020-10-01') - x).dt.days)\n",
    "Recency"
   ]
  },
  {
   "cell_type": "code",
   "execution_count": 122,
   "id": "727143db",
   "metadata": {},
   "outputs": [],
   "source": [
    "Recency.rename(columns = {'Order_Date': 'Recency'}, inplace = True)"
   ]
  },
  {
   "cell_type": "markdown",
   "id": "0f932382",
   "metadata": {},
   "source": [
    "# Frequency 전처리"
   ]
  },
  {
   "cell_type": "code",
   "execution_count": 108,
   "id": "8ecb1c87",
   "metadata": {},
   "outputs": [],
   "source": [
    "df1_Frequency = df1.pivot_table(index = ['Customer_ID', 'Order_Date'], values = 'Price', aggfunc = 'count')"
   ]
  },
  {
   "cell_type": "code",
   "execution_count": 109,
   "id": "a48e3df0",
   "metadata": {},
   "outputs": [],
   "source": [
    "df1_Frequency.rename(columns = {'Price' : 'Frequency'}, inplace = True)"
   ]
  },
  {
   "cell_type": "code",
   "execution_count": 110,
   "id": "283e3c81",
   "metadata": {},
   "outputs": [
    {
     "data": {
      "text/html": [
       "<div>\n",
       "<style scoped>\n",
       "    .dataframe tbody tr th:only-of-type {\n",
       "        vertical-align: middle;\n",
       "    }\n",
       "\n",
       "    .dataframe tbody tr th {\n",
       "        vertical-align: top;\n",
       "    }\n",
       "\n",
       "    .dataframe thead th {\n",
       "        text-align: right;\n",
       "    }\n",
       "</style>\n",
       "<table border=\"1\" class=\"dataframe\">\n",
       "  <thead>\n",
       "    <tr style=\"text-align: right;\">\n",
       "      <th></th>\n",
       "      <th>Frequency</th>\n",
       "    </tr>\n",
       "    <tr>\n",
       "      <th>Customer_ID</th>\n",
       "      <th></th>\n",
       "    </tr>\n",
       "  </thead>\n",
       "  <tbody>\n",
       "    <tr>\n",
       "      <th>100004</th>\n",
       "      <td>1</td>\n",
       "    </tr>\n",
       "    <tr>\n",
       "      <th>100006</th>\n",
       "      <td>1</td>\n",
       "    </tr>\n",
       "    <tr>\n",
       "      <th>100006</th>\n",
       "      <td>1</td>\n",
       "    </tr>\n",
       "    <tr>\n",
       "      <th>100006</th>\n",
       "      <td>1</td>\n",
       "    </tr>\n",
       "    <tr>\n",
       "      <th>100008</th>\n",
       "      <td>1</td>\n",
       "    </tr>\n",
       "    <tr>\n",
       "      <th>...</th>\n",
       "      <td>...</td>\n",
       "    </tr>\n",
       "    <tr>\n",
       "      <th>999981</th>\n",
       "      <td>2</td>\n",
       "    </tr>\n",
       "    <tr>\n",
       "      <th>999989</th>\n",
       "      <td>1</td>\n",
       "    </tr>\n",
       "    <tr>\n",
       "      <th>999994</th>\n",
       "      <td>1</td>\n",
       "    </tr>\n",
       "    <tr>\n",
       "      <th>999999</th>\n",
       "      <td>1</td>\n",
       "    </tr>\n",
       "    <tr>\n",
       "      <th>999999</th>\n",
       "      <td>5</td>\n",
       "    </tr>\n",
       "  </tbody>\n",
       "</table>\n",
       "<p>279785 rows × 1 columns</p>\n",
       "</div>"
      ],
      "text/plain": [
       "             Frequency\n",
       "Customer_ID           \n",
       "100004               1\n",
       "100006               1\n",
       "100006               1\n",
       "100006               1\n",
       "100008               1\n",
       "...                ...\n",
       "999981               2\n",
       "999989               1\n",
       "999994               1\n",
       "999999               1\n",
       "999999               5\n",
       "\n",
       "[279785 rows x 1 columns]"
      ]
     },
     "execution_count": 110,
     "metadata": {},
     "output_type": "execute_result"
    }
   ],
   "source": [
    "Frequency = df1_Frequency.reset_index(level ='Order_Date', drop = True)\n",
    "Frequency"
   ]
  },
  {
   "cell_type": "markdown",
   "id": "2dffc8a7",
   "metadata": {},
   "source": [
    "# Monetary 전처리"
   ]
  },
  {
   "cell_type": "code",
   "execution_count": 111,
   "id": "c3abbcb2",
   "metadata": {
    "scrolled": true
   },
   "outputs": [],
   "source": [
    "Monetary = df1.pivot_table(index = 'Customer_ID', values = 'Price', aggfunc = 'sum')\n"
   ]
  },
  {
   "cell_type": "code",
   "execution_count": 112,
   "id": "6706dbf6",
   "metadata": {},
   "outputs": [],
   "source": [
    "Monetary.rename(columns = {'Price':'Monetary'}, inplace = True)"
   ]
  },
  {
   "cell_type": "markdown",
   "id": "2b46da17",
   "metadata": {},
   "source": [
    "# RFM Score 계산"
   ]
  },
  {
   "cell_type": "code",
   "execution_count": 123,
   "id": "22d741b9",
   "metadata": {
    "scrolled": false
   },
   "outputs": [
    {
     "data": {
      "text/html": [
       "<div>\n",
       "<style scoped>\n",
       "    .dataframe tbody tr th:only-of-type {\n",
       "        vertical-align: middle;\n",
       "    }\n",
       "\n",
       "    .dataframe tbody tr th {\n",
       "        vertical-align: top;\n",
       "    }\n",
       "\n",
       "    .dataframe thead th {\n",
       "        text-align: right;\n",
       "    }\n",
       "</style>\n",
       "<table border=\"1\" class=\"dataframe\">\n",
       "  <thead>\n",
       "    <tr style=\"text-align: right;\">\n",
       "      <th></th>\n",
       "      <th>Recency</th>\n",
       "      <th>Frequency</th>\n",
       "      <th>Monetary</th>\n",
       "    </tr>\n",
       "    <tr>\n",
       "      <th>Customer_ID</th>\n",
       "      <th></th>\n",
       "      <th></th>\n",
       "      <th></th>\n",
       "    </tr>\n",
       "  </thead>\n",
       "  <tbody>\n",
       "    <tr>\n",
       "      <th>100004</th>\n",
       "      <td>100</td>\n",
       "      <td>1</td>\n",
       "      <td>8475</td>\n",
       "    </tr>\n",
       "    <tr>\n",
       "      <th>100006</th>\n",
       "      <td>170</td>\n",
       "      <td>1</td>\n",
       "      <td>115350</td>\n",
       "    </tr>\n",
       "    <tr>\n",
       "      <th>100006</th>\n",
       "      <td>170</td>\n",
       "      <td>1</td>\n",
       "      <td>115350</td>\n",
       "    </tr>\n",
       "    <tr>\n",
       "      <th>100006</th>\n",
       "      <td>170</td>\n",
       "      <td>1</td>\n",
       "      <td>115350</td>\n",
       "    </tr>\n",
       "    <tr>\n",
       "      <th>100008</th>\n",
       "      <td>165</td>\n",
       "      <td>1</td>\n",
       "      <td>104225</td>\n",
       "    </tr>\n",
       "    <tr>\n",
       "      <th>...</th>\n",
       "      <td>...</td>\n",
       "      <td>...</td>\n",
       "      <td>...</td>\n",
       "    </tr>\n",
       "    <tr>\n",
       "      <th>999981</th>\n",
       "      <td>282</td>\n",
       "      <td>2</td>\n",
       "      <td>21695</td>\n",
       "    </tr>\n",
       "    <tr>\n",
       "      <th>999989</th>\n",
       "      <td>44</td>\n",
       "      <td>1</td>\n",
       "      <td>54600</td>\n",
       "    </tr>\n",
       "    <tr>\n",
       "      <th>999994</th>\n",
       "      <td>159</td>\n",
       "      <td>1</td>\n",
       "      <td>9235</td>\n",
       "    </tr>\n",
       "    <tr>\n",
       "      <th>999999</th>\n",
       "      <td>6</td>\n",
       "      <td>1</td>\n",
       "      <td>45450</td>\n",
       "    </tr>\n",
       "    <tr>\n",
       "      <th>999999</th>\n",
       "      <td>6</td>\n",
       "      <td>5</td>\n",
       "      <td>45450</td>\n",
       "    </tr>\n",
       "  </tbody>\n",
       "</table>\n",
       "<p>279785 rows × 3 columns</p>\n",
       "</div>"
      ],
      "text/plain": [
       "             Recency  Frequency  Monetary\n",
       "Customer_ID                              \n",
       "100004           100          1      8475\n",
       "100006           170          1    115350\n",
       "100006           170          1    115350\n",
       "100006           170          1    115350\n",
       "100008           165          1    104225\n",
       "...              ...        ...       ...\n",
       "999981           282          2     21695\n",
       "999989            44          1     54600\n",
       "999994           159          1      9235\n",
       "999999             6          1     45450\n",
       "999999             6          5     45450\n",
       "\n",
       "[279785 rows x 3 columns]"
      ]
     },
     "execution_count": 123,
     "metadata": {},
     "output_type": "execute_result"
    }
   ],
   "source": [
    "# R,F,M 병합\n",
    "df_merged = pd.concat([ Recency, Frequency,Monetary], axis = 1 )\n",
    "df_merged"
   ]
  },
  {
   "cell_type": "code",
   "execution_count": 125,
   "id": "47a93be4",
   "metadata": {},
   "outputs": [],
   "source": [
    "#R_Score 계산\n",
    "df_merged['R_Score'] = pd.qcut(df_merged['Recency'], 5, labels=[5,4,3,2,1]) "
   ]
  },
  {
   "cell_type": "code",
   "execution_count": 128,
   "id": "5a4af189",
   "metadata": {
    "scrolled": true
   },
   "outputs": [
    {
     "data": {
      "text/plain": [
       "1    204679\n",
       "2     51762\n",
       "3     11760\n",
       "4      6939\n",
       "5      2056\n",
       "6      1640\n",
       "7       415\n",
       "8       402\n",
       "9       132\n",
       "Name: Frequency, dtype: int64"
      ]
     },
     "execution_count": 128,
     "metadata": {},
     "output_type": "execute_result"
    }
   ],
   "source": [
    "#F_Score 계산\n",
    "df_merged['Frequency'].value_counts().head(20)"
   ]
  },
  {
   "cell_type": "code",
   "execution_count": 117,
   "id": "be097121",
   "metadata": {},
   "outputs": [],
   "source": [
    "# Frequency value의 1,2,3 빈도가 높아 qcut 활용 불가 -> 1은 1점, 2는 2점, 3은 3점, 4는 4점, 5회 이상은 5점 부여\n",
    "def f_score(x):\n",
    "    if x >= 5 :\n",
    "        return 5\n",
    "    else :\n",
    "        return x"
   ]
  },
  {
   "cell_type": "code",
   "execution_count": 129,
   "id": "81b55a2e",
   "metadata": {},
   "outputs": [],
   "source": [
    "df_merged['F_Score'] = df_merged['Frequency'].apply(f_score)"
   ]
  },
  {
   "cell_type": "code",
   "execution_count": 131,
   "id": "47a1929e",
   "metadata": {
    "scrolled": false
   },
   "outputs": [],
   "source": [
    "# M_Score 계산\n",
    "df_merged['M_Score'] = pd.qcut(df_merged['Monetary'], 5, labels=[1,2,3,4,5]) "
   ]
  },
  {
   "cell_type": "code",
   "execution_count": 146,
   "id": "b8a24244",
   "metadata": {},
   "outputs": [],
   "source": [
    "# Sum Score 계산\n",
    "df_merged['Sum_Score'] = df_merged['R_Score'].astype(int) + df_merged['F_Score'].astype(int) + df_merged['M_Score'].astype(int)"
   ]
  },
  {
   "cell_type": "code",
   "execution_count": 164,
   "id": "b452709f",
   "metadata": {},
   "outputs": [
    {
     "data": {
      "text/html": [
       "<div>\n",
       "<style scoped>\n",
       "    .dataframe tbody tr th:only-of-type {\n",
       "        vertical-align: middle;\n",
       "    }\n",
       "\n",
       "    .dataframe tbody tr th {\n",
       "        vertical-align: top;\n",
       "    }\n",
       "\n",
       "    .dataframe thead th {\n",
       "        text-align: right;\n",
       "    }\n",
       "</style>\n",
       "<table border=\"1\" class=\"dataframe\">\n",
       "  <thead>\n",
       "    <tr style=\"text-align: right;\">\n",
       "      <th></th>\n",
       "      <th>Recency</th>\n",
       "      <th>Frequency</th>\n",
       "      <th>Monetary</th>\n",
       "      <th>R_Score</th>\n",
       "      <th>F_Score</th>\n",
       "      <th>M_Score</th>\n",
       "      <th>Sum_Score</th>\n",
       "      <th>FM_Avg</th>\n",
       "    </tr>\n",
       "    <tr>\n",
       "      <th>Customer_ID</th>\n",
       "      <th></th>\n",
       "      <th></th>\n",
       "      <th></th>\n",
       "      <th></th>\n",
       "      <th></th>\n",
       "      <th></th>\n",
       "      <th></th>\n",
       "      <th></th>\n",
       "    </tr>\n",
       "  </thead>\n",
       "  <tbody>\n",
       "    <tr>\n",
       "      <th>100004</th>\n",
       "      <td>100</td>\n",
       "      <td>1</td>\n",
       "      <td>8475</td>\n",
       "      <td>3</td>\n",
       "      <td>1</td>\n",
       "      <td>1</td>\n",
       "      <td>5</td>\n",
       "      <td>1</td>\n",
       "    </tr>\n",
       "    <tr>\n",
       "      <th>100006</th>\n",
       "      <td>170</td>\n",
       "      <td>1</td>\n",
       "      <td>115350</td>\n",
       "      <td>2</td>\n",
       "      <td>1</td>\n",
       "      <td>4</td>\n",
       "      <td>7</td>\n",
       "      <td>2</td>\n",
       "    </tr>\n",
       "    <tr>\n",
       "      <th>100006</th>\n",
       "      <td>170</td>\n",
       "      <td>1</td>\n",
       "      <td>115350</td>\n",
       "      <td>2</td>\n",
       "      <td>1</td>\n",
       "      <td>4</td>\n",
       "      <td>7</td>\n",
       "      <td>2</td>\n",
       "    </tr>\n",
       "    <tr>\n",
       "      <th>100006</th>\n",
       "      <td>170</td>\n",
       "      <td>1</td>\n",
       "      <td>115350</td>\n",
       "      <td>2</td>\n",
       "      <td>1</td>\n",
       "      <td>4</td>\n",
       "      <td>7</td>\n",
       "      <td>2</td>\n",
       "    </tr>\n",
       "    <tr>\n",
       "      <th>100008</th>\n",
       "      <td>165</td>\n",
       "      <td>1</td>\n",
       "      <td>104225</td>\n",
       "      <td>2</td>\n",
       "      <td>1</td>\n",
       "      <td>4</td>\n",
       "      <td>7</td>\n",
       "      <td>2</td>\n",
       "    </tr>\n",
       "    <tr>\n",
       "      <th>...</th>\n",
       "      <td>...</td>\n",
       "      <td>...</td>\n",
       "      <td>...</td>\n",
       "      <td>...</td>\n",
       "      <td>...</td>\n",
       "      <td>...</td>\n",
       "      <td>...</td>\n",
       "      <td>...</td>\n",
       "    </tr>\n",
       "    <tr>\n",
       "      <th>999981</th>\n",
       "      <td>282</td>\n",
       "      <td>2</td>\n",
       "      <td>21695</td>\n",
       "      <td>1</td>\n",
       "      <td>2</td>\n",
       "      <td>1</td>\n",
       "      <td>4</td>\n",
       "      <td>2</td>\n",
       "    </tr>\n",
       "    <tr>\n",
       "      <th>999989</th>\n",
       "      <td>44</td>\n",
       "      <td>1</td>\n",
       "      <td>54600</td>\n",
       "      <td>4</td>\n",
       "      <td>1</td>\n",
       "      <td>2</td>\n",
       "      <td>7</td>\n",
       "      <td>2</td>\n",
       "    </tr>\n",
       "    <tr>\n",
       "      <th>999994</th>\n",
       "      <td>159</td>\n",
       "      <td>1</td>\n",
       "      <td>9235</td>\n",
       "      <td>2</td>\n",
       "      <td>1</td>\n",
       "      <td>1</td>\n",
       "      <td>4</td>\n",
       "      <td>1</td>\n",
       "    </tr>\n",
       "    <tr>\n",
       "      <th>999999</th>\n",
       "      <td>6</td>\n",
       "      <td>1</td>\n",
       "      <td>45450</td>\n",
       "      <td>5</td>\n",
       "      <td>1</td>\n",
       "      <td>2</td>\n",
       "      <td>8</td>\n",
       "      <td>2</td>\n",
       "    </tr>\n",
       "    <tr>\n",
       "      <th>999999</th>\n",
       "      <td>6</td>\n",
       "      <td>5</td>\n",
       "      <td>45450</td>\n",
       "      <td>5</td>\n",
       "      <td>5</td>\n",
       "      <td>2</td>\n",
       "      <td>12</td>\n",
       "      <td>4</td>\n",
       "    </tr>\n",
       "  </tbody>\n",
       "</table>\n",
       "<p>279785 rows × 8 columns</p>\n",
       "</div>"
      ],
      "text/plain": [
       "             Recency  Frequency  Monetary R_Score  F_Score  M_Score  \\\n",
       "Customer_ID                                                           \n",
       "100004           100          1      8475       3        1        1   \n",
       "100006           170          1    115350       2        1        4   \n",
       "100006           170          1    115350       2        1        4   \n",
       "100006           170          1    115350       2        1        4   \n",
       "100008           165          1    104225       2        1        4   \n",
       "...              ...        ...       ...     ...      ...      ...   \n",
       "999981           282          2     21695       1        2        1   \n",
       "999989            44          1     54600       4        1        2   \n",
       "999994           159          1      9235       2        1        1   \n",
       "999999             6          1     45450       5        1        2   \n",
       "999999             6          5     45450       5        5        2   \n",
       "\n",
       "             Sum_Score  FM_Avg  \n",
       "Customer_ID                     \n",
       "100004               5       1  \n",
       "100006               7       2  \n",
       "100006               7       2  \n",
       "100006               7       2  \n",
       "100008               7       2  \n",
       "...                ...     ...  \n",
       "999981               4       2  \n",
       "999989               7       2  \n",
       "999994               4       1  \n",
       "999999               8       2  \n",
       "999999              12       4  \n",
       "\n",
       "[279785 rows x 8 columns]"
      ]
     },
     "execution_count": 164,
     "metadata": {},
     "output_type": "execute_result"
    }
   ],
   "source": [
    "df_merged"
   ]
  },
  {
   "cell_type": "code",
   "execution_count": 158,
   "id": "8993b16e",
   "metadata": {},
   "outputs": [],
   "source": [
    "# 2차원 그래프 생성 위한 F-M 병합\n",
    "df_merged['M_Score'] = df_merged['M_Score'].astype(int)\n",
    "df_merged['FM_Avg'] = round((df_merged['F_Score'] + df_merged['M_Score'])/2)\n",
    "df_merged['FM_Avg'] = df_merged['FM_Avg'].astype(int)"
   ]
  },
  {
   "cell_type": "code",
   "execution_count": 167,
   "id": "0fbec2cf",
   "metadata": {},
   "outputs": [
    {
     "data": {
      "image/png": "[encoded data removed]",
      "text/plain": [
       "<Figure size 640x480 with 2 Axes>"
      ]
     },
     "metadata": {},
     "output_type": "display_data"
    }
   ],
   "source": [
    "# Confusion Matrix 생성\n",
    "import seaborn as sns\n",
    "import matplotlib.pyplot as plt\n",
    "\n",
    "confusion_matrix = pd.crosstab(df_merged['FM_Avg'], df_merged['R_Score'])\n",
    "confusion_matrix = confusion_matrix.iloc[::-1, ::-1]\n",
    "\n",
    "sns.heatmap(confusion_matrix, annot=True, cmap='Blues', fmt = 'd')\n",
    "plt.xlabel('R_Score')\n",
    "plt.ylabel('FM_Avg')\n",
    "plt.show()\n"
   ]
  },
  {
   "cell_type": "code",
   "execution_count": null,
   "id": "2e98ef00",
   "metadata": {},
   "outputs": [],
   "source": []
  }
 ],
 "metadata": {
  "kernelspec": {
   "display_name": "Python 3 (ipykernel)",
   "language": "python",
   "name": "python3"
  },
  "language_info": {
   "codemirror_mode": {
    "name": "ipython",
    "version": 3
   },
   "file_extension": ".py",
   "mimetype": "text/x-python",
   "name": "python",
   "nbconvert_exporter": "python",
   "pygments_lexer": "ipython3",
   "version": "3.10.9"
  }
 },
 "nbformat": 4,
 "nbformat_minor": 5
}
